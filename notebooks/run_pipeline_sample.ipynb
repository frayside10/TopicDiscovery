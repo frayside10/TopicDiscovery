{
 "cells": [
  {
   "cell_type": "markdown",
   "metadata": {},
   "source": [
    "##  Notebook to drive the LDA model creation on the unsupervised parts of this project, based on refactored functions, rather than everything being crowded into one notebook.  \n"
   ]
  },
  {
   "cell_type": "code",
   "execution_count": 1,
   "metadata": {},
   "outputs": [
    {
     "name": "stderr",
     "output_type": "stream",
     "text": [
      "[nltk_data] Downloading package stopwords to\n",
      "[nltk_data]     /Users/topper/nltk_data...\n",
      "[nltk_data]   Package stopwords is already up-to-date!\n",
      "[nltk_data] Downloading package stopwords to\n",
      "[nltk_data]     /Users/topper/nltk_data...\n",
      "[nltk_data]   Package stopwords is already up-to-date!\n"
     ]
    }
   ],
   "source": [
    "import os\n",
    "import sys\n",
    "src_dir = os.path.join(os.getcwd(), '..', 'src')\n",
    "sys.path.append(src_dir)\n",
    "\n",
    "import pandas as pd\n",
    "import numpy as np\n",
    "from sklearn.datasets import load_files\n",
    "\n",
    "from datacode.retrieve_data import pull_data\n",
    "from datacode.download_data import download_file, unzip_data\n",
    "from datacode.retrieve_data import pull_data\n",
    "\n",
    "from nltk.corpus import stopwords\n",
    "import nltk; nltk.download('stopwords')\n",
    "import gensim.corpora as corpora\n",
    "import spacy\n",
    "from gensim.utils import simple_preprocess\n",
    "from gensim.models import CoherenceModel\n",
    "import gensim\n",
    "\n",
    "from features.pre_process import set_stop_words, sent_to_words, remove_stopwords, bigrams, get_corpus, get_test_bigram\n",
    "import pickle\n",
    "import warnings\n",
    "from models.text_model import gen_lda_model, train_vectors\n",
    "import pyLDAvis.gensim"
   ]
  },
  {
   "cell_type": "code",
   "execution_count": 2,
   "metadata": {},
   "outputs": [],
   "source": [
    "from sklearn.metrics import fbeta_score\n",
    "from sklearn.metrics import f1_score\n",
    "from sklearn import linear_model\n",
    "from sklearn.preprocessing import StandardScaler\n",
    "from sklearn.model_selection import train_test_split\n",
    "from sklearn.model_selection import KFold\n",
    "from sklearn.model_selection import cross_val_score\n",
    "from sklearn.model_selection import GridSearchCV\n",
    "from sklearn.metrics import classification_report\n",
    "from sklearn.metrics import confusion_matrix\n",
    "from sklearn.metrics import accuracy_score\n",
    "from sklearn.pipeline import Pipeline\n",
    "from sklearn.linear_model import LogisticRegression\n",
    "from sklearn.tree import DecisionTreeClassifier\n",
    "from sklearn.neighbors import KNeighborsClassifier\n",
    "from sklearn.discriminant_analysis import LinearDiscriminantAnalysis \n",
    "from sklearn.naive_bayes import GaussianNB\n",
    "from sklearn.svm import SVC\n",
    "from sklearn.ensemble import AdaBoostClassifier\n",
    "from sklearn.ensemble import GradientBoostingClassifier\n",
    "from sklearn.ensemble import RandomForestClassifier\n",
    "from sklearn.ensemble import ExtraTreesClassifier"
   ]
  },
  {
   "cell_type": "code",
   "execution_count": 3,
   "metadata": {},
   "outputs": [],
   "source": [
    "root_dir = os.path.dirname(os.path.dirname(os.path.abspath(\"LICENSE\")))\n",
    "interim_data_path = os.path.join(root_dir, \"data/interim\")\n",
    "processed_data_path = os.path.join(root_dir, \"data/processed\")\n",
    "raw_data_path = os.path.join(root_dir, \"data/raw\")\n",
    "raw_data_loc = os.path.join(raw_data_path, \"imdb_raw.tar.gz\")\n",
    "topics_list_output = os.path.join(processed_data_path, \"found_topics.csv\")\n",
    "\n",
    "source_file_ulr = \"https://ai.stanford.edu/~amaas/data/sentiment/aclImdb_v1.tar.gz\"\n",
    "imbd_unpack_dir = \"../data/raw\"\n",
    "\n",
    "corpus_path = os.path.join(interim_data_path, \"train_corpus4.pkl\")\n",
    "id2word_path = os.path.join(interim_data_path, \"train_id2word4.pkl\")\n",
    "bigram_train_path = os.path.join(interim_data_path, \"bigram_train4.pkl\")\n",
    "\n",
    "model_log = os.path.join(processed_data_path, \"logs/lda_model.log\")\n",
    "model_data = os.path.join(processed_data_path, \"model_data/lda_train4.model\")"
   ]
  },
  {
   "cell_type": "code",
   "execution_count": 4,
   "metadata": {},
   "outputs": [
    {
     "name": "stdout",
     "output_type": "stream",
     "text": [
      "Downloading from https://ai.stanford.edu/~amaas/data/sentiment/aclImdb_v1.tar.gz to /Users/topper/s_training/projects/everylife_model/ELTest/data/raw/imdb_raw.tar.gz\n"
     ]
    }
   ],
   "source": [
    "# Download the source data and unzip\n",
    "download_file(source_file_ulr, raw_data_loc)\n",
    "unzip_data(raw_data_loc, imbd_unpack_dir)"
   ]
  },
  {
   "cell_type": "code",
   "execution_count": 5,
   "metadata": {},
   "outputs": [],
   "source": [
    "# Pull in training data, split off features and label data and save the features array as a df\n",
    "imdb_train = pull_data(os.path.join(raw_data_path, \"aclImdb/train\"))\n",
    "text_train, y_train = imdb_train.data, imdb_train.target\n",
    "text_train_df = pd.DataFrame({'text': text_train})"
   ]
  },
  {
   "cell_type": "code",
   "execution_count": 6,
   "metadata": {},
   "outputs": [],
   "source": [
    "# Better to add to a YAML or other text file in due course\n",
    "added_stop_words = ['film','films','movie','picture','review','watch','movies','see',\n",
    "                    'xc','seems','think','would','could','get', 'however','people','many',\n",
    "                    'us','jane','also','jones','know','even','great','good','bad','poor',\n",
    "                   'terrible','awful','stink','brilliant','lame','stupid','loved','hate','hated',\n",
    "                   'enjoy','enjoyed','garbage','really','best','wonderful','much','make','well','man',\n",
    "                   'woman','much','actually','little','small','guess','never','always', 'joy',\n",
    "                   'love','english','french','quite','beautiful','hit','joe','james','adam','crap',\n",
    "                   'worst','best','jesus']"
   ]
  },
  {
   "cell_type": "markdown",
   "metadata": {},
   "source": [
    "# SAMPLE A SUBSET JUST TO GET IT TO RUN THROUGH"
   ]
  },
  {
   "cell_type": "code",
   "execution_count": 7,
   "metadata": {},
   "outputs": [],
   "source": [
    "text_train_df_samp = text_train_df.sample(frac=0.05).copy()"
   ]
  },
  {
   "cell_type": "code",
   "execution_count": 8,
   "metadata": {},
   "outputs": [],
   "source": [
    "# Returns the following\n",
    "# train_id2word4: Mapping from word IDs to words. It is used to determine the vocabulary size, as well as for debugging and topic printing.\n",
    "# train_corpus4: Stream of document vectors or sparse matrix \n",
    "# bigram_train4: Grouping of related phrases i.e. sci fi is converted to sci_fi \n",
    "#train_corpus4, train_id2word4, bigram_train4 = get_corpus(text_train_df, added_stop_words) \n",
    "\n",
    "# RUN ON SAMPLE\n",
    "train_corpus4, train_id2word4, bigram_train4 = get_corpus(text_train_df_samp, added_stop_words) "
   ]
  },
  {
   "cell_type": "code",
   "execution_count": 48,
   "metadata": {},
   "outputs": [],
   "source": [
    "# Keep the files\n",
    "# with open(corpus_path, 'wb') as f:\n",
    "#     pickle.dump(train_corpus4, f)\n",
    "# with open(id2word_path, 'wb') as f:\n",
    "#     pickle.dump(train_id2word4, f)\n",
    "# with open(bigram_train_path, 'wb') as f:\n",
    "#     pickle.dump(bigram_train4, f)"
   ]
  },
  {
   "cell_type": "code",
   "execution_count": 9,
   "metadata": {},
   "outputs": [],
   "source": [
    "# Create the LDA model - i.e. create the topics\n",
    "lda_train4 = gen_lda_model(train_corpus4, train_id2word4, model_log, model_data)"
   ]
  },
  {
   "cell_type": "code",
   "execution_count": 10,
   "metadata": {},
   "outputs": [],
   "source": [
    "topic_list = []\n",
    "for topic in lda_train4.show_topics(num_topics=20, num_words=10, log=False, formatted=True):\n",
    "    topic_list.append([train_id2word4[id[0]] for id in lda_train4.get_topic_terms(topic[0])])"
   ]
  },
  {
   "cell_type": "code",
   "execution_count": 11,
   "metadata": {},
   "outputs": [],
   "source": [
    "topic_list_df = pd.DataFrame({'topics': topic_list})"
   ]
  },
  {
   "cell_type": "code",
   "execution_count": 13,
   "metadata": {},
   "outputs": [],
   "source": [
    "topic_list_df.to_csv(topics_list_output)"
   ]
  },
  {
   "cell_type": "code",
   "execution_count": null,
   "metadata": {},
   "outputs": [],
   "source": []
  }
 ],
 "metadata": {
  "kernelspec": {
   "display_name": "Python 3",
   "language": "python",
   "name": "python3"
  },
  "language_info": {
   "codemirror_mode": {
    "name": "ipython",
    "version": 3
   },
   "file_extension": ".py",
   "mimetype": "text/x-python",
   "name": "python",
   "nbconvert_exporter": "python",
   "pygments_lexer": "ipython3",
   "version": "3.9.2"
  }
 },
 "nbformat": 4,
 "nbformat_minor": 4
}
